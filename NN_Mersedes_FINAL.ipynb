{
  "nbformat": 4,
  "nbformat_minor": 0,
  "metadata": {
    "colab": {
      "name": "NN Mersedes FINAL",
      "provenance": [],
      "collapsed_sections": [],
      "toc_visible": true,
      "include_colab_link": true
    },
    "kernelspec": {
      "name": "python3",
      "display_name": "Python 3"
    },
    "accelerator": "GPU"
  },
  "cells": [
    {
      "cell_type": "markdown",
      "metadata": {
        "id": "view-in-github",
        "colab_type": "text"
      },
      "source": [
        "<a href=\"https://colab.research.google.com/github/akiyoss-git/CollabMersedesNN/blob/main/NN_Mersedes_FINAL.ipynb\" target=\"_parent\"><img src=\"https://colab.research.google.com/assets/colab-badge.svg\" alt=\"Open In Colab\"/></a>"
      ]
    },
    {
      "cell_type": "markdown",
      "metadata": {
        "id": "3ss8HWoqV_r4"
      },
      "source": [
        "#Серебрянский Александр Сергеевич 18-АС (18-ИВТ-1)\n",
        "#3 Вариант"
      ]
    },
    {
      "cell_type": "markdown",
      "metadata": {
        "id": "Fl4zD_FaWFAm"
      },
      "source": [
        "##Подготовка, Импорты"
      ]
    },
    {
      "cell_type": "code",
      "metadata": {
        "id": "UTJaq05pWXRB"
      },
      "source": [
        "!pip install -U keras-tuner"
      ],
      "execution_count": null,
      "outputs": []
    },
    {
      "cell_type": "code",
      "metadata": {
        "id": "LC36eiSp7ZLn"
      },
      "source": [
        "import keras\n",
        "import pandas as pd\n",
        "import numpy as np\n",
        "from sklearn.preprocessing import LabelEncoder, OneHotEncoder\n",
        "from sklearn.impute import SimpleImputer\n",
        "from tensorflow.python.keras.layers import Dense, Dropout\n",
        "from tensorflow.python.keras.models import Sequential\n",
        "from tensorflow.keras.callbacks import Callback\n",
        "from kerastuner.tuners import RandomSearch, Hyperband, BayesianOptimization\n",
        "from kerastuner.engine import hyperparameters\n",
        "from kerastuner import HyperModel\n",
        "from keras.models import Sequential\n",
        "import matplotlib.pyplot as plt\n",
        "import IPython"
      ],
      "execution_count": null,
      "outputs": []
    },
    {
      "cell_type": "code",
      "metadata": {
        "id": "X8z0RGosXRrp"
      },
      "source": [
        "from google.colab import drive\n",
        "drive.mount('/content/drive')"
      ],
      "execution_count": null,
      "outputs": []
    },
    {
      "cell_type": "markdown",
      "metadata": {
        "id": "EFqG8rW5WU3z"
      },
      "source": [
        "##Подготовка данных"
      ]
    },
    {
      "cell_type": "markdown",
      "metadata": {
        "id": "RBla7p-OWY3K"
      },
      "source": [
        "###Получение и вывод тренировочных данных"
      ]
    },
    {
      "cell_type": "code",
      "metadata": {
        "id": "hp4Rrl6PWy4r"
      },
      "source": [
        "train_path = '/content/drive/My Drive/labs/train.csv'\n",
        "data = pd.read_csv(train_path)\n",
        "data.head()"
      ],
      "execution_count": null,
      "outputs": []
    },
    {
      "cell_type": "markdown",
      "metadata": {
        "id": "uwFJylS3Wind"
      },
      "source": [
        "###Удаление столбика ID"
      ]
    },
    {
      "cell_type": "code",
      "metadata": {
        "id": "6kfBJosmbGag"
      },
      "source": [
        "del data['ID']\n",
        "data.head()"
      ],
      "execution_count": null,
      "outputs": []
    },
    {
      "cell_type": "markdown",
      "metadata": {
        "id": "oj_UqkyNWtdU"
      },
      "source": [
        "###Получение истинных значений и удаление стобца Y"
      ]
    },
    {
      "cell_type": "code",
      "metadata": {
        "id": "NZi1A9aqhnPZ"
      },
      "source": [
        "y_data = data.get('y')\n",
        "x_data = data.drop('y' , axis=1)"
      ],
      "execution_count": null,
      "outputs": []
    },
    {
      "cell_type": "markdown",
      "metadata": {
        "id": "U5QVFkt-XZUA"
      },
      "source": [
        "###Кодирование буквенных данных"
      ]
    },
    {
      "cell_type": "code",
      "metadata": {
        "id": "O0R-2hb2q_sH"
      },
      "source": [
        "x_data = (x_data - x_data.mean()) / x_data.std()\n",
        "col = x_data.select_dtypes(include=[object])\n",
        "x_data.loc[:, col.columns] = col.apply(LabelEncoder().fit_transform)\n",
        "data.head()"
      ],
      "execution_count": null,
      "outputs": []
    },
    {
      "cell_type": "markdown",
      "metadata": {
        "id": "NvJmbV3EXlHS"
      },
      "source": [
        "###Разделение данных на тренировочные и тестовые"
      ]
    },
    {
      "cell_type": "code",
      "metadata": {
        "id": "3m_p7EaLrelF"
      },
      "source": [
        "split = 0.7\n",
        "seed = 200"
      ],
      "execution_count": null,
      "outputs": []
    },
    {
      "cell_type": "code",
      "metadata": {
        "id": "L3wK4A2QsF5m"
      },
      "source": [
        "x_train = x_data.sample(frac=split, random_state=seed)\n",
        "x_train = x_train.drop('y', axis=1)\n",
        "x_test = x_data.drop(x_train.index)\n",
        "x_train = x_train.fillna(x_train.mean().mean())\n",
        "\n",
        "y_train = y_data.sample(frac=split, random_state=seed)\n",
        "y_test = y_data.drop(y_train.index)"
      ],
      "execution_count": null,
      "outputs": []
    },
    {
      "cell_type": "code",
      "metadata": {
        "id": "oklaK6u_sMBa"
      },
      "source": [
        "x_train"
      ],
      "execution_count": null,
      "outputs": []
    },
    {
      "cell_type": "code",
      "metadata": {
        "id": "sNWyvpEGsN4N"
      },
      "source": [
        "y_train"
      ],
      "execution_count": null,
      "outputs": []
    },
    {
      "cell_type": "markdown",
      "metadata": {
        "id": "8QeR3pVFXs9J"
      },
      "source": [
        "##Создание и обучение нейросети"
      ]
    },
    {
      "cell_type": "markdown",
      "metadata": {
        "id": "jttJd4gYXyxp"
      },
      "source": [
        "###Создание нейросети"
      ]
    },
    {
      "cell_type": "code",
      "metadata": {
        "id": "omv9mOq1X08r"
      },
      "source": [
        "model = Sequential()\n",
        "model.add(Dense(400, activation=\"relu\", input_shape=(x_train.shape[1],)))\n",
        "model.add(Dense(200, activation=\"relu\"))\n",
        "model.add(Dense(1))\n",
        "print(\"[DEBUG-USER] nn created\")\n",
        "\n",
        "model.compile(optimizer=\"adam\", loss=\"mse\", metrics=[\"mae\"])\n",
        "print(\"[DEBUG-USER] nn compiled\")\n",
        "\n",
        "model.summary()"
      ],
      "execution_count": null,
      "outputs": []
    },
    {
      "cell_type": "markdown",
      "metadata": {
        "id": "ZTT1N8cUX5fc"
      },
      "source": [
        "###Обучение нейросети"
      ]
    },
    {
      "cell_type": "code",
      "metadata": {
        "id": "1aSDSoXKspdi"
      },
      "source": [
        "history = model.fit(x_train, y_train, epochs=200, batch_size=1000, verbose=1, validation_split=0.3)\n",
        "history = history.history\n",
        "print(\"[DEBUG-USER] nn finish\")"
      ],
      "execution_count": null,
      "outputs": []
    },
    {
      "cell_type": "markdown",
      "metadata": {
        "id": "5M4Zc_KdX-2b"
      },
      "source": [
        "###Вывод графика"
      ]
    },
    {
      "cell_type": "code",
      "metadata": {
        "id": "UghtRPUPAIWc"
      },
      "source": [
        "def graphs(history):\n",
        "    loss = history[\"loss\"]\n",
        "    val_loss = history[\"val_loss\"]\n",
        "    epochs = range(1, len(history['loss']) + 1)\n",
        "    plt.plot(epochs, loss, 'r', label='Training loss')\n",
        "    plt.plot(epochs, val_loss, 'b', label='Validation loss')\n",
        "    plt.title('Training and validation loss')\n",
        "    plt.xlabel('Epochs')\n",
        "    plt.ylabel('Loss')\n",
        "    plt.legend()\n",
        "    plt.show()\n",
        "\n",
        "    plt.clf()\n",
        "\n",
        "    mae = history['mae']\n",
        "    val_mae = history['val_mae']\n",
        "    plt.plot(epochs, mae, 'r', label='Training mae')\n",
        "    plt.plot(epochs, val_mae, 'b', label='Validation mae')\n",
        "    plt.title('Training and validation mae')\n",
        "    plt.xlabel('Epochs')\n",
        "    plt.ylabel('mae')\n",
        "    plt.legend()\n",
        "    plt.show()\n",
        "\n",
        "\n",
        "\n",
        "# рисуем все графики\n",
        "graphs(history)"
      ],
      "execution_count": null,
      "outputs": []
    },
    {
      "cell_type": "markdown",
      "metadata": {
        "id": "WvTlERcKYCmF"
      },
      "source": [
        "###Предсказания нейросети"
      ]
    },
    {
      "cell_type": "code",
      "metadata": {
        "id": "Ol0b3EPM1BDF"
      },
      "source": [
        "x_test = x_test.drop('y', axis=1)"
      ],
      "execution_count": null,
      "outputs": []
    },
    {
      "cell_type": "code",
      "metadata": {
        "id": "O23Bsc73mQ_m"
      },
      "source": [
        "predictions = model.predict(x_test, verbose=1)\n",
        "predictions"
      ],
      "execution_count": null,
      "outputs": []
    }
  ]
}